{
 "cells": [
  {
   "cell_type": "code",
   "execution_count": 7,
   "metadata": {},
   "outputs": [],
   "source": [
    "# sqlite3 and sqlalchemy \"John Doe\" tutorial\n",
    "# Daniel Espinosa, 2023"
   ]
  },
  {
   "cell_type": "code",
   "execution_count": 8,
   "metadata": {},
   "outputs": [],
   "source": [
    "import sqlite3\n",
    "\n",
    "# Connect to the SQLite database (creates a new file if not exists)\n",
    "connection = sqlite3.connect('example.db')\n",
    "\n",
    "# Create a cursor object to interact with the database\n",
    "cursor = connection.cursor()\n",
    "\n",
    "# Example: Creating a table\n",
    "cursor.execute('''\n",
    "    CREATE TABLE IF NOT EXISTS users (\n",
    "        id INTEGER PRIMARY KEY,\n",
    "        name TEXT NOT NULL,\n",
    "        age INTEGER\n",
    "    )\n",
    "''')\n",
    "\n",
    "# Commit the changes and close the connection\n",
    "connection.commit()\n",
    "connection.close()"
   ]
  },
  {
   "cell_type": "code",
   "execution_count": 9,
   "metadata": {},
   "outputs": [
    {
     "name": "stdout",
     "output_type": "stream",
     "text": [
      "2023-11-30 16:27:24,547 INFO sqlalchemy.engine.Engine BEGIN (implicit)\n",
      "2023-11-30 16:27:24,549 INFO sqlalchemy.engine.Engine PRAGMA main.table_info(\"users\")\n",
      "2023-11-30 16:27:24,549 INFO sqlalchemy.engine.Engine [raw sql] ()\n",
      "2023-11-30 16:27:24,551 INFO sqlalchemy.engine.Engine PRAGMA temp.table_info(\"users\")\n",
      "2023-11-30 16:27:24,551 INFO sqlalchemy.engine.Engine [raw sql] ()\n",
      "2023-11-30 16:27:24,553 INFO sqlalchemy.engine.Engine \n",
      "CREATE TABLE users (\n",
      "\tid INTEGER NOT NULL, \n",
      "\tname VARCHAR, \n",
      "\tage INTEGER, \n",
      "\tPRIMARY KEY (id)\n",
      ")\n",
      "\n",
      "\n",
      "2023-11-30 16:27:24,553 INFO sqlalchemy.engine.Engine [no key 0.00071s] ()\n",
      "2023-11-30 16:27:24,554 INFO sqlalchemy.engine.Engine COMMIT\n",
      "2023-11-30 16:27:24,555 INFO sqlalchemy.engine.Engine BEGIN (implicit)\n",
      "2023-11-30 16:27:24,557 INFO sqlalchemy.engine.Engine INSERT INTO users (name, age) VALUES (?, ?)\n",
      "2023-11-30 16:27:24,557 INFO sqlalchemy.engine.Engine [generated in 0.00197s] ('John Doe', 25)\n",
      "2023-11-30 16:27:24,558 INFO sqlalchemy.engine.Engine SELECT users.id, users.name, users.age \n",
      "FROM users\n",
      "2023-11-30 16:27:24,559 INFO sqlalchemy.engine.Engine [generated in 0.00065s] ()\n",
      "(1, 'John Doe', 25)\n"
     ]
    }
   ],
   "source": [
    "from sqlalchemy import create_engine, Column, Integer, String, MetaData, Table\n",
    "\n",
    "# Create an SQLite database in memory\n",
    "engine = create_engine('sqlite:///:memory:', echo=True)\n",
    "\n",
    "# Define a simple table using SQLAlchemy\n",
    "metadata = MetaData()\n",
    "users = Table('users', metadata,\n",
    "              Column('id', Integer, primary_key=True),\n",
    "              Column('name', String),\n",
    "              Column('age', Integer)\n",
    "              )\n",
    "\n",
    "# Create the table in the database\n",
    "metadata.create_all(engine)\n",
    "\n",
    "connection = engine.connect() \n",
    "# Insert data\n",
    "connection.execute(users.insert().values(name='John Doe', age=25))\n",
    "\n",
    "# Select data\n",
    "result = connection.execute(users.select())\n",
    "for row in result:\n",
    "    print(row)"
   ]
  }
 ],
 "metadata": {
  "kernelspec": {
   "display_name": "tf",
   "language": "python",
   "name": "python3"
  },
  "language_info": {
   "codemirror_mode": {
    "name": "ipython",
    "version": 3
   },
   "file_extension": ".py",
   "mimetype": "text/x-python",
   "name": "python",
   "nbconvert_exporter": "python",
   "pygments_lexer": "ipython3",
   "version": "3.7.7"
  }
 },
 "nbformat": 4,
 "nbformat_minor": 2
}
